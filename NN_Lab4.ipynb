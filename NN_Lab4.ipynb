{
  "nbformat": 4,
  "nbformat_minor": 0,
  "metadata": {
    "colab": {
      "name": "NN_Lab4.ipynb",
      "provenance": [],
      "authorship_tag": "ABX9TyM1Wq/7oYP2yUg8S93qysfl",
      "include_colab_link": true
    },
    "kernelspec": {
      "name": "python3",
      "display_name": "Python 3"
    },
    "language_info": {
      "name": "python"
    }
  },
  "cells": [
    {
      "cell_type": "markdown",
      "metadata": {
        "id": "view-in-github",
        "colab_type": "text"
      },
      "source": [
        "<a href=\"https://colab.research.google.com/github/Shrutikapedamkar/CE889_Neural-Networks/blob/main/NN_Lab4.ipynb\" target=\"_parent\"><img src=\"https://colab.research.google.com/assets/colab-badge.svg\" alt=\"Open In Colab\"/></a>"
      ]
    },
    {
      "cell_type": "code",
      "execution_count": 2,
      "metadata": {
        "id": "NWqHGBU0WHul"
      },
      "outputs": [],
      "source": [
        "import numpy as np"
      ]
    },
    {
      "cell_type": "code",
      "source": [
        "def sigmoid(z):\n",
        "  sig = 1/(1+np.exp(-z))\n",
        "  return z"
      ],
      "metadata": {
        "id": "gQOEqrvuxUDT"
      },
      "execution_count": 9,
      "outputs": []
    },
    {
      "cell_type": "code",
      "source": [
        "W = np.full((6,2),0)\n",
        "b = np.full((2,1),0)"
      ],
      "metadata": {
        "id": "1AkcuaAPzg5K"
      },
      "execution_count": 3,
      "outputs": []
    },
    {
      "cell_type": "code",
      "source": [
        "def forward_propogation(w, input, b):\n",
        "  z=np.dot(W.T,input)+b\n",
        "  y_output = sigmoid(z)\n",
        "  return y_output"
      ],
      "metadata": {
        "id": "WiRz-Mo9xeyh"
      },
      "execution_count": 5,
      "outputs": []
    },
    {
      "cell_type": "code",
      "source": [
        "input = np.array([[1,6,8,0],[33,2,3,5],[1,6,6,7],[2,9,8,4],[5,6,9,6],[32,13,0,2]])\n",
        "output = np.array([[1,0,1,0],[0,1,0,1]])"
      ],
      "metadata": {
        "id": "_lS-MtWlx42x"
      },
      "execution_count": 6,
      "outputs": []
    },
    {
      "cell_type": "code",
      "source": [
        "y_output = forward_propogation(W, input, b)"
      ],
      "metadata": {
        "id": "z4vAZ7-MyCX7"
      },
      "execution_count": 10,
      "outputs": []
    },
    {
      "cell_type": "code",
      "source": [
        "def gradients(w,b,x,y,y_hat):\n",
        "  w_derivative = np.mean ( x* (y_hat - y).T )\n",
        "  b_derivative = np.mean (y_hat - y)\n",
        "  print('W Derivative {}, B Derivative'.format(w_derivative,b_derivative))\n",
        "  return w_derivative, b_derivative"
      ],
      "metadata": {
        "id": "a9CYCbVCzoan"
      },
      "execution_count": 11,
      "outputs": []
    },
    {
      "cell_type": "code",
      "source": [
        "def weight_bias_updation(w_derivative,b_derivative,learning_rate,weight,bias):\n",
        "  W = weight - (learning_rate * w_derivative)\n",
        "  b = bias - (learning_rate * b_derivative)\n",
        "  return W,b"
      ],
      "metadata": {
        "id": "8wdjNxvSzu4T"
      },
      "execution_count": 12,
      "outputs": []
    },
    {
      "cell_type": "code",
      "source": [
        ""
      ],
      "metadata": {
        "id": "MCtqfHj3z05d"
      },
      "execution_count": null,
      "outputs": []
    }
  ]
}